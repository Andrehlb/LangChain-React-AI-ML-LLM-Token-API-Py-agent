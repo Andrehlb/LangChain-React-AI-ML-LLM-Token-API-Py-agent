{
 "cells": [
  {
   "cell_type": "code",
   "execution_count": 1,
   "metadata": {},
   "outputs": [
    {
     "data": {
      "text/plain": [
       "True"
      ]
     },
     "execution_count": 1,
     "metadata": {},
     "output_type": "execute_result"
    }
   ],
   "source": [
    "import os\n",
    "import sys\n",
    "\n",
    "from dotenv import load_dotenv\n",
    "\n",
    "pkg_path = os.path.abspath(\"../\")\n",
    "if pkg_path not in sys.path:\n",
    "    sys.path.append(pkg_path)\n",
    "\n",
    "load_dotenv()"
   ]
  },
  {
   "cell_type": "code",
   "execution_count": 2,
   "metadata": {},
   "outputs": [],
   "source": [
    "from langchain_openai import AzureChatOpenAI\n",
    "from langgraph.checkpoint.memory import MemorySaver\n",
    "from src.agent import ReactAgent\n",
    "\n",
    "\n",
    "llm_agent = AzureChatOpenAI(model=\"gpt-4o\", temperature=0)\n",
    "agent = ReactAgent(llm=llm_agent, memory=MemorySaver())"
   ]
  },
  {
   "cell_type": "code",
   "execution_count": 3,
   "metadata": {},
   "outputs": [
    {
     "data": {
      "text/plain": [
       "{'query': 'Quem comumente coestrela filmes tom cruise com mais frequencia? Quantas vezes?',\n",
       " 'response': 'Morgan Freeman é o ator que mais frequentemente coestrela filmes com Tom Cruise, tendo atuado juntos em 2 filmes.',\n",
       " 'reasoning': [{'action': 'ai',\n",
       "   'observation': '================================== Ai Message ==================================\\nTool Calls:\\n  get_info_about_movies (call_oQJYtKVMkmMKbhR2L4U8ES3m)\\n Call ID: call_oQJYtKVMkmMKbhR2L4U8ES3m\\n  Args:\\n    query: atores que mais coestrelam filmes com Tom Cruise'},\n",
       "  {'action': 'tool',\n",
       "   'observation': '================================= Tool Message =================================\\nName: get_info_about_movies\\n\\n{\"query\": \"atores que mais coestrelam filmes com Tom Cruise\", \"result\": [{\"coactor.name\": \"Morgan Freeman\", \"co_starred_movies\": 2}, {\"coactor.name\": \"Madeleine Mantock\", \"co_starred_movies\": 1}, {\"coactor.name\": \"Lara Pulver\", \"co_starred_movies\": 1}, {\"coactor.name\": \"Noah Taylor\", \"co_starred_movies\": 1}, {\"coactor.name\": \"Terence Maynard\", \"co_starred_movies\": 1}, {\"coactor.name\": \"Masayoshi Haneda\", \"co_starred_movies\": 1}, {\"coactor.name\": \"Charlotte Riley\", \"co_starred_movies\": 1}, {\"coactor.name\": \"Dragomir Mrsic\", \"co_starred_movies\": 1}, {\"coactor.name\": \"Franz Drameh\", \"co_starred_movies\": 1}, {\"coactor.name\": \"Kick Gurry\", \"co_starred_movies\": 1}]}'},\n",
       "  {'action': 'ai',\n",
       "   'observation': '================================== Ai Message ==================================\\n\\nMorgan Freeman é o ator que mais frequentemente coestrela filmes com Tom Cruise, tendo atuado juntos em 2 filmes.'}]}"
      ]
     },
     "execution_count": 3,
     "metadata": {},
     "output_type": "execute_result"
    }
   ],
   "source": [
    "agent.answer_question(\"Quem comumente coestrela filmes tom cruise com mais frequencia? Quantas vezes?\",thread_id=\"1\")"
   ]
  },
  {
   "cell_type": "code",
   "execution_count": 4,
   "metadata": {},
   "outputs": [
    {
     "data": {
      "text/plain": [
       "{'query': 'Quais filmes?',\n",
       " 'response': 'Tom Cruise e Morgan Freeman coestrelaram juntos nos seguintes filmes:\\n\\n1. **Oblivion**\\n2. **Guerra dos Mundos**',\n",
       " 'reasoning': [{'action': 'ai',\n",
       "   'observation': '================================== Ai Message ==================================\\nTool Calls:\\n  get_info_about_movies (call_x0IKBQLFOWGe9WxMaLipdCH9)\\n Call ID: call_x0IKBQLFOWGe9WxMaLipdCH9\\n  Args:\\n    query: filmes com Tom Cruise e Morgan Freeman'},\n",
       "  {'action': 'tool',\n",
       "   'observation': '================================= Tool Message =================================\\nName: get_info_about_movies\\n\\n{\"query\": \"filmes com Tom Cruise e Morgan Freeman\", \"result\": [{\"m.title\": \"Oblivion\"}, {\"m.title\": \"Guerra dos Mundos\"}]}'},\n",
       "  {'action': 'ai',\n",
       "   'observation': '================================== Ai Message ==================================\\n\\nTom Cruise e Morgan Freeman coestrelaram juntos nos seguintes filmes:\\n\\n1. **Oblivion**\\n2. **Guerra dos Mundos**'}]}"
      ]
     },
     "execution_count": 4,
     "metadata": {},
     "output_type": "execute_result"
    }
   ],
   "source": [
    "agent.answer_question(\"Quais filmes?\",thread_id=\"1\")"
   ]
  },
  {
   "cell_type": "code",
   "execution_count": 5,
   "metadata": {},
   "outputs": [
    {
     "data": {
      "text/plain": [
       "{'query': 'Qual a sinopse desses filmes?',\n",
       " 'response': 'Aqui estão as sinopses dos filmes em que Tom Cruise e Morgan Freeman coestrelaram:\\n\\n1. **Oblivion**:\\n   - Em 2077, Jack Harper é o responsável pela manutenção de equipamentos de segurança em um planeta Terra irreconhecível, que foi destruído por uma raça alienígena. O que restou da humanidade vive hoje em uma colônia lunar, para onde Jack irá assim que terminar seu trabalho na Terra. Porém, um dia, ele encontra a espaçonave de uma mulher e, ao conhecê-la, tudo o que Jack sabe até então é posto em dúvida, iniciando-se uma jornada em que ele precisará descobrir o que realmente aconteceu no passado.\\n\\n2. **Guerra dos Mundos**:\\n   - Ray Ferrier é um estivador divorciado, afastado de seus filhos, que vivem com a mãe. Quando sua ex-esposa deixa as crianças para ele cuidar durante alguns dias, o planeta é atacado por alienígenas que surgem do chão conduzindo tripods e destruindo tudo que encontram pelo caminho. Ray tenta proteger os seus filhos e fugir para Boston para se juntar a sua ex-esposa. Durante o trajeto, enfrenta várias adversidades e ataques.',\n",
       " 'reasoning': [{'action': 'ai',\n",
       "   'observation': '================================== Ai Message ==================================\\nTool Calls:\\n  get_info_about_movies (call_6gA0ntp4ocfuD8zbtAYN6I1Z)\\n Call ID: call_6gA0ntp4ocfuD8zbtAYN6I1Z\\n  Args:\\n    query: sinopse do filme Oblivion\\n  get_info_about_movies (call_gqCCG7YFROCbqMXwhSCn7pSX)\\n Call ID: call_gqCCG7YFROCbqMXwhSCn7pSX\\n  Args:\\n    query: sinopse do filme Guerra dos Mundos'},\n",
       "  {'action': 'tool',\n",
       "   'observation': '================================= Tool Message =================================\\nName: get_info_about_movies\\n\\n{\"query\": \"sinopse do filme Oblivion\", \"result\": [{\"m.description\": \"Em 2077, Jack Harper \\\\u00e9 o respons\\\\u00e1vel pela manuten\\\\u00e7\\\\u00e3o de equipamentos de seguran\\\\u00e7a em um planeta Terra irreconhec\\\\u00edvel, que foi destru\\\\u00eddo por uma ra\\\\u00e7a alien\\\\u00edgena. O que restou da humanidade vive hoje em uma col\\\\u00f4nia lunar, para onde Jack ir\\\\u00e1 assim que terminar seu trabalho na Terra. Por\\\\u00e9m um dia, ele encontra a espa\\\\u00e7onave de uma mulher e, ao conhec\\\\u00ea-la, tudo o que Jack sabe at\\\\u00e9 ent\\\\u00e3o \\\\u00e9 posto em d\\\\u00favida, iniciando-se uma jornada em que ele precisar\\\\u00e1 descobrir o que realmente aconteceu no passado.\"}]}'},\n",
       "  {'action': 'tool',\n",
       "   'observation': '================================= Tool Message =================================\\nName: get_info_about_movies\\n\\n{\"query\": \"sinopse do filme Guerra dos Mundos\", \"result\": [{\"m.description\": \"Ray Ferrier \\\\u00e9 um estivador divorciado, afastado de seus filhos, que vivem com a m\\\\u00e3e. Quando sua ex-esposa deixa as crian\\\\u00e7as para ele cuidar durante alguns dias, o planeta \\\\u00e9 atacado por alien\\\\u00edgenas que surgem do ch\\\\u00e3o conduzindo tripods e destruindo tudo que encontram pelo caminho. Ray tenta proteger os seus filhos e fugir para Boston para se juntar a sua ex-esposa. Durante o trajeto, enfrenta v\\\\u00e1rias adversidades e ataques.\"}]}'},\n",
       "  {'action': 'ai',\n",
       "   'observation': '================================== Ai Message ==================================\\n\\nAqui estão as sinopses dos filmes em que Tom Cruise e Morgan Freeman coestrelaram:\\n\\n1. **Oblivion**:\\n   - Em 2077, Jack Harper é o responsável pela manutenção de equipamentos de segurança em um planeta Terra irreconhecível, que foi destruído por uma raça alienígena. O que restou da humanidade vive hoje em uma colônia lunar, para onde Jack irá assim que terminar seu trabalho na Terra. Porém, um dia, ele encontra a espaçonave de uma mulher e, ao conhecê-la, tudo o que Jack sabe até então é posto em dúvida, iniciando-se uma jornada em que ele precisará descobrir o que realmente aconteceu no passado.\\n\\n2. **Guerra dos Mundos**:\\n   - Ray Ferrier é um estivador divorciado, afastado de seus filhos, que vivem com a mãe. Quando sua ex-esposa deixa as crianças para ele cuidar durante alguns dias, o planeta é atacado por alienígenas que surgem do chão conduzindo tripods e destruindo tudo que encontram pelo caminho. Ray tenta proteger os seus filhos e fugir para Boston para se juntar a sua ex-esposa. Durante o trajeto, enfrenta várias adversidades e ataques.'}]}"
      ]
     },
     "execution_count": 5,
     "metadata": {},
     "output_type": "execute_result"
    }
   ],
   "source": [
    "agent.answer_question(\"Qual a sinopse desses filmes?\",thread_id=\"1\")"
   ]
  },
  {
   "cell_type": "code",
   "execution_count": 6,
   "metadata": {},
   "outputs": [
    {
     "data": {
      "text/plain": [
       "{'query': 'Tem algum filme de samurai?',\n",
       " 'response': 'Não encontrei nenhum filme de samurai estrelado por Tom Cruise. No entanto, aqui estão alguns filmes de samurai que podem te interessar:\\n\\n1. **Gintama** (2017)\\n   - Um samurai jovem e desempregado procura trabalho em uma Tóquio feudal governada por invasores alienígenas. Um mestre espadachim pede ao samurai e seus amigos para evitar que a espada amaldiçoada Benizakura caia nas mãos erradas.\\n\\n2. **É um Filme de Verão!** (2021)\\n   - A jovem Barefoot adora filmes de samurai e dramas japoneses, mas não tem chance de fazer um filme do estilo em sua escola. Um dia, ela conhece Rintaro, que seria o ator ideal para o papel de principal em um longa que ela escreveu. Agora, Barefoot e suas duas melhores amigas, Kickboard e Blue Hawaii, tentam convencer Rintaro a estrelar a criação, reunindo também elenco e equipe únicos. No entanto, durante a produção, Barefoot descobre que Rintaro é um viajante do tempo e vem do futuro.',\n",
       " 'reasoning': [{'action': 'ai',\n",
       "   'observation': '================================== Ai Message ==================================\\nTool Calls:\\n  get_info_about_movies (call_si1AhLvYtsFqbL8YKmkzkTTt)\\n Call ID: call_si1AhLvYtsFqbL8YKmkzkTTt\\n  Args:\\n    query: filme de samurai com Tom Cruise'},\n",
       "  {'action': 'tool',\n",
       "   'observation': '================================= Tool Message =================================\\nName: get_info_about_movies\\n\\n{\"query\": \"filme de samurai com Tom Cruise\", \"result\": []}'},\n",
       "  {'action': 'ai',\n",
       "   'observation': '================================== Ai Message ==================================\\nTool Calls:\\n  get_info_about_movies (call_84o8NuXWhTWp5vJYFolfVSy9)\\n Call ID: call_84o8NuXWhTWp5vJYFolfVSy9\\n  Args:\\n    query: filmes de samurai'},\n",
       "  {'action': 'tool',\n",
       "   'observation': '================================= Tool Message =================================\\nName: get_info_about_movies\\n\\n{\"query\": \"filmes de samurai\", \"result\": [{\"m.title\": \"Gintama\", \"m.year\": 2017, \"m.description\": \"Um samurai jovem e desempregado procura trabalho em uma T\\\\u00f3quio feudal governada por invasores alien\\\\u00edgenas. Um mestre espadachim pede ao samurai e seus amigos para evitar que a espada amaldi\\\\u00e7oada Benizakura caia nas m\\\\u00e3os erradas.\"}, {\"m.title\": \"\\\\u00c9 um Filme de Ver\\\\u00e3o!\", \"m.year\": 2021, \"m.description\": \"A jovem Barefoot adora filmes de samurai e dramas japoneses, mas n\\\\u00e3o tem chance de fazer um filme do estilo em sua escola. Um dia, ela conhece Rintaro, que seria o ator ideal para o papel de principal em um longa que ela escreveu. Agora, Barefoot e suas duas melhores amigas, Kickboard e Blue Hawaii, tentam convencem Rintaro a estrelar a cria\\\\u00e7\\\\u00e3o, reunindo tamb\\\\u00e9m elenco e equipe \\\\u00fanicos. No entanto, durante a produ\\\\u00e7\\\\u00e3o, Barefoot descobre que Rintaro \\\\u00e9 um viajante do tempo e vem do futuro.\"}]}'},\n",
       "  {'action': 'ai',\n",
       "   'observation': '================================== Ai Message ==================================\\n\\nNão encontrei nenhum filme de samurai estrelado por Tom Cruise. No entanto, aqui estão alguns filmes de samurai que podem te interessar:\\n\\n1. **Gintama** (2017)\\n   - Um samurai jovem e desempregado procura trabalho em uma Tóquio feudal governada por invasores alienígenas. Um mestre espadachim pede ao samurai e seus amigos para evitar que a espada amaldiçoada Benizakura caia nas mãos erradas.\\n\\n2. **É um Filme de Verão!** (2021)\\n   - A jovem Barefoot adora filmes de samurai e dramas japoneses, mas não tem chance de fazer um filme do estilo em sua escola. Um dia, ela conhece Rintaro, que seria o ator ideal para o papel de principal em um longa que ela escreveu. Agora, Barefoot e suas duas melhores amigas, Kickboard e Blue Hawaii, tentam convencer Rintaro a estrelar a criação, reunindo também elenco e equipe únicos. No entanto, durante a produção, Barefoot descobre que Rintaro é um viajante do tempo e vem do futuro.'}]}"
      ]
     },
     "execution_count": 6,
     "metadata": {},
     "output_type": "execute_result"
    }
   ],
   "source": [
    "agent.answer_question(\"Tem algum filme de samurai?\",thread_id=\"1\")"
   ]
  },
  {
   "cell_type": "code",
   "execution_count": 7,
   "metadata": {},
   "outputs": [
    {
     "data": {
      "text/plain": [
       "{'query': 'E filmes do Arnold?',\n",
       " 'response': 'Arnold Schwarzenegger estrelou em vários filmes icônicos. Aqui estão alguns deles:\\n\\n1. **O Exterminador do Futuro 3 - A Rebelião das Máquinas**\\n2. **O Exterminador do Futuro 2 - O Julgamento Final**\\n3. **O Exterminador do Futuro - Gênesis**\\n4. **O Sobrevivente**\\n\\nSe precisar de mais informações sobre algum desses filmes ou outros, é só avisar!',\n",
       " 'reasoning': [{'action': 'ai',\n",
       "   'observation': '================================== Ai Message ==================================\\nTool Calls:\\n  get_info_about_movies (call_dyKKB5vstB7cuQGWp2MziTLG)\\n Call ID: call_dyKKB5vstB7cuQGWp2MziTLG\\n  Args:\\n    query: filmes com Arnold Schwarzenegger'},\n",
       "  {'action': 'tool',\n",
       "   'observation': '================================= Tool Message =================================\\nName: get_info_about_movies\\n\\n{\"query\": \"filmes com Arnold Schwarzenegger\", \"result\": [{\"m.title\": \"O Exterminador do Futuro 3 - A Rebeli\\\\u00e3o das M\\\\u00e1quinas\"}, {\"m.title\": \"O Exterminador do Futuro 2 - O Julgamento Final\"}, {\"m.title\": \"O Exterminador do Futuro - G\\\\u00eanesis\"}, {\"m.title\": \"O Sobrevivente\"}]}'},\n",
       "  {'action': 'ai',\n",
       "   'observation': '================================== Ai Message ==================================\\n\\nArnold Schwarzenegger estrelou em vários filmes icônicos. Aqui estão alguns deles:\\n\\n1. **O Exterminador do Futuro 3 - A Rebelião das Máquinas**\\n2. **O Exterminador do Futuro 2 - O Julgamento Final**\\n3. **O Exterminador do Futuro - Gênesis**\\n4. **O Sobrevivente**\\n\\nSe precisar de mais informações sobre algum desses filmes ou outros, é só avisar!'}]}"
      ]
     },
     "execution_count": 7,
     "metadata": {},
     "output_type": "execute_result"
    }
   ],
   "source": [
    "agent.answer_question(\"E filmes do Arnold?\",thread_id=\"1\")"
   ]
  },
  {
   "cell_type": "code",
   "execution_count": 8,
   "metadata": {},
   "outputs": [
    {
     "data": {
      "text/plain": [
       "{'query': 'Filme de vampiros com Will Smith',\n",
       " 'response': 'Will Smith estrelou em um filme que envolve criaturas semelhantes a vampiros:\\n\\n1. **Eu Sou a Lenda**:\\n   - Sinopse: Robert Neville é um brilhante cientista e o único sobrevivente de uma epidemia que transformou os humanos em mutantes sedentos por sangue. Andando pela cidade de Nova York, ele procura por outros possíveis sobreviventes e tenta achar a cura da praga usando seu próprio sangue, que é imune.\\n\\nEste filme mistura elementos de ficção científica e horror, com criaturas que têm características semelhantes a vampiros.',\n",
       " 'reasoning': [{'action': 'ai',\n",
       "   'observation': '================================== Ai Message ==================================\\nTool Calls:\\n  get_info_about_movies (call_wDgAbsHiArbKWWa02sl9itil)\\n Call ID: call_wDgAbsHiArbKWWa02sl9itil\\n  Args:\\n    query: filmes com Will Smith'},\n",
       "  {'action': 'tool',\n",
       "   'observation': '================================= Tool Message =================================\\nName: get_info_about_movies\\n\\n{\"query\": \"filmes com Will Smith\", \"result\": [{\"m.title\": \"Depois da Terra\"}, {\"m.title\": \"Homens de Preto 3\"}, {\"m.title\": \"MIB - Homens de Preto 3\"}, {\"m.title\": \"MIB - Homens de Preto 2\"}, {\"m.title\": \"MIB - Homens de Preto\"}, {\"m.title\": \"Independence Day\"}, {\"m.title\": \"Eu Sou a Lenda\"}, {\"m.title\": \"Projeto Gemini\"}]}'},\n",
       "  {'action': 'ai',\n",
       "   'observation': '================================== Ai Message ==================================\\nTool Calls:\\n  get_info_about_movies (call_a66qPATmtu8V9W7PYAwjuVc3)\\n Call ID: call_a66qPATmtu8V9W7PYAwjuVc3\\n  Args:\\n    query: sinopse do filme Eu Sou a Lenda'},\n",
       "  {'action': 'tool',\n",
       "   'observation': '================================= Tool Message =================================\\nName: get_info_about_movies\\n\\n{\"query\": \"sinopse do filme Eu Sou a Lenda\", \"result\": [{\"m.description\": \"Robert Neville \\\\u00e9 um brilhante cientista e o \\\\u00fanico sobrevivente de uma epidemia que transformou os humanos em mutantes sedentos por sangue. Andando pela cidade de Nova York, ele procura por outros poss\\\\u00edveis sobreviventes e tenta achar a cura da praga usando seu pr\\\\u00f3prio sangue, que \\\\u00e9 imune.\"}]}'},\n",
       "  {'action': 'ai',\n",
       "   'observation': '================================== Ai Message ==================================\\n\\nWill Smith estrelou em um filme que envolve criaturas semelhantes a vampiros:\\n\\n1. **Eu Sou a Lenda**:\\n   - Sinopse: Robert Neville é um brilhante cientista e o único sobrevivente de uma epidemia que transformou os humanos em mutantes sedentos por sangue. Andando pela cidade de Nova York, ele procura por outros possíveis sobreviventes e tenta achar a cura da praga usando seu próprio sangue, que é imune.\\n\\nEste filme mistura elementos de ficção científica e horror, com criaturas que têm características semelhantes a vampiros.'}]}"
      ]
     },
     "execution_count": 8,
     "metadata": {},
     "output_type": "execute_result"
    }
   ],
   "source": [
    "agent.answer_question(\"Filme de vampiros com Will Smith\",thread_id=\"1\")"
   ]
  }
 ],
 "metadata": {
  "kernelspec": {
   "display_name": "click-alert",
   "language": "python",
   "name": "python3"
  },
  "language_info": {
   "codemirror_mode": {
    "name": "ipython",
    "version": 3
   },
   "file_extension": ".py",
   "mimetype": "text/x-python",
   "name": "python",
   "nbconvert_exporter": "python",
   "pygments_lexer": "ipython3",
   "version": "3.9.19"
  }
 },
 "nbformat": 4,
 "nbformat_minor": 2
}
